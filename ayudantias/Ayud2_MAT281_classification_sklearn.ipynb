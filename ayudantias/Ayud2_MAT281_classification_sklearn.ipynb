{
 "cells": [
  {
   "cell_type": "markdown",
   "metadata": {},
   "source": [
    "<center><img src=\"https://matematica.usm.cl/wp-content/themes/dmatUSM/assets/img/logoDMAT2.png\" title=\"Title text\" width= 800 /></center>\n",
    "<hr style=\"height:2px;border:none\"/>\n",
    "<h1 align='center'> Ayudantía 2: Modelos de Clasificación en Sklearn</h1>\n",
    "\n",
    "<H3 align='center'> MAT281 2024-2 </H3>\n",
    "\n",
    "<H3 align='center'> Ayud. Diego Astaburuaga C. </H3>\n",
    "<p align='center'> <u> Plantilla y guía gracias a Alejandro Villazón G. </u> <p>\n",
    "<hr style=\"height:2px;border:none\"/>"
   ]
  }
 ],
 "metadata": {
  "kernelspec": {
   "display_name": "Python 3",
   "language": "python",
   "name": "python3"
  },
  "language_info": {
   "codemirror_mode": {
    "name": "ipython",
    "version": 3
   },
   "file_extension": ".py",
   "mimetype": "text/x-python",
   "name": "python",
   "nbconvert_exporter": "python",
   "pygments_lexer": "ipython3",
   "version": "3.11.9"
  }
 },
 "nbformat": 4,
 "nbformat_minor": 2
}
