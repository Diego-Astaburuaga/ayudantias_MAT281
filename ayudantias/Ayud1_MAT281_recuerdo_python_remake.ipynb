{
 "cells": [
  {
   "cell_type": "markdown",
   "metadata": {},
   "source": [
    "<center><img src=\"https://matematica.usm.cl/wp-content/themes/dmatUSM/assets/img/logoDMAT2.png\" title=\"Title text\" width= 800 /></center>\n",
    "<hr style=\"height:2px;border:none\"/>\n",
    "<h1 align='center'> Ayudantía 1: Recuerdo Python</h1>\n",
    "\n",
    "<H3 align='center'> MAT281 2024-2 </H3>\n",
    "\n",
    "<H3 align='center'> Ayud. Diego Astaburuaga C. </H3>\n",
    "<p align='center'> <u> Plantilla y guía gracias a Alejandro Villazón G. </u> <p>\n",
    "<hr style=\"height:2px;border:none\"/>"
   ]
  },
  {
   "cell_type": "markdown",
   "metadata": {},
   "source": [
    "Esta ayudantía se centra en mostrar recursos para el aprendizaje de Python y crear una primera orientación a su uso en el curso de **aplicaciones de las matemáticas a la ingeniería**."
   ]
  },
  {
   "cell_type": "markdown",
   "metadata": {},
   "source": [
    "# Contenido de la ayudantía"
   ]
  },
  {
   "cell_type": "markdown",
   "metadata": {},
   "source": [
    "El objetivo de este **documento es principal orientativo**, no busco enseñarles a programar pero si mostrarles algunos recursos para que ustedes puedan hacerlo o simplemente refrescar la memoria.\n"
   ]
  },
  {
   "cell_type": "markdown",
   "metadata": {},
   "source": [
    "## 1) Python en aplicaciones de las matemáticas a la ingeniería"
   ]
  },
  {
   "cell_type": "markdown",
   "metadata": {},
   "source": [
    "Hay que tener en cuenta que no existe un lenguaje de programación que sea el mejor para todos los problemas que quieran resolver, por ello es vital que tengan la capacidad de adaptarse según el problema que busquen resolver. Especificamente, en el curso se les brinda la opción de trabajar en R o Python, significando que son **libres de elegir un único lenguaje**, o bien, buscar saber **aprovechar las ventajas de cada uno**.\n",
    "\n",
    "Algunos comentarios practicos:\n",
    "- Si tienen alguna pregunta, **busquén internet** (*se que resulta obvio, pero muchas veces se olvida*), seguramente cualquier problema que vayan a tener, alguna persona en internet también lo tuvo y otra persona seguramente lo resolvió.\n",
    "- **Sitios de internet recomendados**: documentaciones oficiales y el sitio de [stackoverflow](https://stackoverflow.com/) (*Sí, pueden usar ChatGPT, pero personalmente no lo recomiendo para aprender a programar*).\n",
    "- El valor que entregan como profesionales en estas aplicaciones no va en su capacidad para programar, si no que va ligada a su capacidad para entender, manipular y obtener información desde los datos, es decir, **usen su pensamiento crítico**, pero para eso, requieren saber programar.\n"
   ]
  },
  {
   "cell_type": "markdown",
   "metadata": {},
   "source": [
    "## 2) Empezando en Python "
   ]
  },
  {
   "cell_type": "markdown",
   "metadata": {},
   "source": [
    "Para esta parte, utilizaré el contenido creado por el ayudante del semestre pasado, Alejandro Villazón, quien hizo una excelente introducción a Python, como empezar a programar, cuál es su sintaxis, funciones y métodos y como utilizar algunas de las librerías principales para la \"ciencia de datos\".\n",
    "\n",
    "**¿En que fijarse?**:\n",
    "\n",
    "- Empezar a programar, tienen varias opciones, entre ellas:\n",
    "    - Google Colaboratory.\n",
    "    - VSCode + Python.\n",
    "    - Anaconda distribution (Tienen los Jupyter notebooks + entorno de R).\n",
    "\n",
    "- Básicos de Python:\n",
    "    - Uso de distintas variables y estructuras de datos: str, int, boolean, listas, diccionarios, tuplas, etc.\n",
    "    - Manejo de flujos de control: if, elseif, else, while, for, etc.\n",
    "    - Conocer algunas librerías importantes: numpy, pandas, matplotlib, scikitlearn, etc. Especificamente:\n",
    "        - Manipular dataframes de pandas.\n",
    "        - Mostrar gráficos usando matplotlib (o Seaborn!).\n",
    "\n",
    "- Que se espera:\n",
    "    - No se espera que sean profesionales en Python, pero intenten crear sus propios códigos y ensuciarse las manos al programar.\n",
    "    - Las ayudantías NO serán tutoriales de Python, pero usaremos Python para estudiar algunos problemas y utilizar el contenido de las clases para intentar darles solución.\n",
    "\n",
    "**Contenido para adentrarse en Python**:\n",
    "\n",
    "- Par de enlaces para adentrarse en Python:\n",
    "    - Ayudantías del semestre pasado: [Ayudantías Alejandro](https://github.com/AlejandroVillazonG/ayudantias_MAT281).\n",
    "    - Material complementario: [Github del curso en San Joaquin](https://github.com/fralfaro/MAT281_2024). (De donde les mando una joyita: [Historia de MAT281](https://fralfaro.github.io/MAT281_2024/mat281_02/))\n",
    "    - Un énlace interactivo para entender más el entorno de Python: [Roadmap de Python](https://orgpad.info/s/sbwXdJ9N5wc).\n",
    "\n",
    "- Como bien pueden saber, Python se compone igualmente por librerías que otorgan nuevas estructuras y funcionalidades, aquí puede encontrar los enlaces a las guías de unas librerías principales:\n",
    "    - Guía Matplotlib: https://matplotlib.org/stable/users/explain/quick_start.html\n",
    "    - Guía Numpy: https://numpy.org/doc/stable/user/quickstart.html\n",
    "    - Guía Pandas: https://pandas.pydata.org/docs/user_guide/10min.html\n",
    "\n",
    "- ¿Deseas poner en practica lo que viste o hacer tus propios códigos?\n",
    "    - Algunos tutoriales guíados: [W3schools](https://www.w3schools.com/python/).\n",
    "    - [Tutorial completito de codecademy.](https://www.codecademy.com/learn/learn-python-3)\n",
    "    - Si te quieres ponerte de verdad a prueba, ingresa a [Kaggle](https://www.kaggle.com/), descargar algun conjunto de datos y ponte a programar."
   ]
  },
  {
   "cell_type": "markdown",
   "metadata": {},
   "source": [
    "# Ejercicio propuesto"
   ]
  },
  {
   "cell_type": "markdown",
   "metadata": {},
   "source": [
    "Utilice la plataforma [kaggle](https://www.kaggle.com) (o de donde quiera) para encontrar un conjunto de datos de interés. Realice (o consigase) los siguientes puntos:\n",
    "- Encuentre un conjunto de datos de interés.\n",
    "- Describa el conjunto de datos. (de que tratan los datos, número de variables, número de observaciones, etc).\n",
    "- Análisis exploratorio del conjunto de datos. (gráficos descriptivos, estadísticos, etc. Ej: Visualizar datos, histogramas, boxplots)."
   ]
  },
  {
   "cell_type": "markdown",
   "metadata": {},
   "source": [
    "## Ejemplo de solución"
   ]
  },
  {
   "cell_type": "markdown",
   "metadata": {},
   "source": [
    "Exploraremos una solución de este ejercicio mediante mostrar tres tipos de conjuntos de datos que podrían ser abordados con las herramientas que espera ofrecer el curso:\n",
    "1) Problemas de clasificación <- Predecir una variable de respuesta discreta.\n",
    "2) Análisis de series temporales <- Obtener información o predicción de datos indexados en el tiempo.\n",
    "3) Geoestadística <- Obtener información o interpolación de datos georeferenciados."
   ]
  },
  {
   "cell_type": "markdown",
   "metadata": {},
   "source": [
    "### 1. Clasificación"
   ]
  },
  {
   "cell_type": "code",
   "execution_count": 1,
   "metadata": {},
   "outputs": [],
   "source": [
    "# pip install pandas"
   ]
  },
  {
   "cell_type": "code",
   "execution_count": 2,
   "metadata": {},
   "outputs": [],
   "source": [
    "# import pandas as pd\n",
    "\n",
    "# credit_df = pd.read_csv('https://raw.githubusercontent.com/JLZml/Credit-Scoring-Data-Sets/master/6.%20Credit%20risk%20analysis/ratings/ratings.csv')"
   ]
  },
  {
   "cell_type": "code",
   "execution_count": 3,
   "metadata": {},
   "outputs": [],
   "source": [
    "# credit_df.info(memory_usage=False)"
   ]
  },
  {
   "cell_type": "code",
   "execution_count": 4,
   "metadata": {},
   "outputs": [],
   "source": [
    "import pandas as pd\n",
    "\n",
    "fungis = pd.read_csv('../datasets/mushrooms.csv')"
   ]
  },
  {
   "cell_type": "code",
   "execution_count": 5,
   "metadata": {},
   "outputs": [
    {
     "data": {
      "text/html": [
       "<div>\n",
       "<style scoped>\n",
       "    .dataframe tbody tr th:only-of-type {\n",
       "        vertical-align: middle;\n",
       "    }\n",
       "\n",
       "    .dataframe tbody tr th {\n",
       "        vertical-align: top;\n",
       "    }\n",
       "\n",
       "    .dataframe thead th {\n",
       "        text-align: right;\n",
       "    }\n",
       "</style>\n",
       "<table border=\"1\" class=\"dataframe\">\n",
       "  <thead>\n",
       "    <tr style=\"text-align: right;\">\n",
       "      <th></th>\n",
       "      <th>class</th>\n",
       "      <th>cap-shape</th>\n",
       "      <th>cap-surface</th>\n",
       "      <th>cap-color</th>\n",
       "      <th>bruises</th>\n",
       "      <th>odor</th>\n",
       "      <th>gill-attachment</th>\n",
       "      <th>gill-spacing</th>\n",
       "      <th>gill-size</th>\n",
       "      <th>gill-color</th>\n",
       "      <th>...</th>\n",
       "      <th>stalk-surface-below-ring</th>\n",
       "      <th>stalk-color-above-ring</th>\n",
       "      <th>stalk-color-below-ring</th>\n",
       "      <th>veil-type</th>\n",
       "      <th>veil-color</th>\n",
       "      <th>ring-number</th>\n",
       "      <th>ring-type</th>\n",
       "      <th>spore-print-color</th>\n",
       "      <th>population</th>\n",
       "      <th>habitat</th>\n",
       "    </tr>\n",
       "  </thead>\n",
       "  <tbody>\n",
       "    <tr>\n",
       "      <th>0</th>\n",
       "      <td>p</td>\n",
       "      <td>x</td>\n",
       "      <td>s</td>\n",
       "      <td>n</td>\n",
       "      <td>t</td>\n",
       "      <td>p</td>\n",
       "      <td>f</td>\n",
       "      <td>c</td>\n",
       "      <td>n</td>\n",
       "      <td>k</td>\n",
       "      <td>...</td>\n",
       "      <td>s</td>\n",
       "      <td>w</td>\n",
       "      <td>w</td>\n",
       "      <td>p</td>\n",
       "      <td>w</td>\n",
       "      <td>o</td>\n",
       "      <td>p</td>\n",
       "      <td>k</td>\n",
       "      <td>s</td>\n",
       "      <td>u</td>\n",
       "    </tr>\n",
       "    <tr>\n",
       "      <th>1</th>\n",
       "      <td>e</td>\n",
       "      <td>x</td>\n",
       "      <td>s</td>\n",
       "      <td>y</td>\n",
       "      <td>t</td>\n",
       "      <td>a</td>\n",
       "      <td>f</td>\n",
       "      <td>c</td>\n",
       "      <td>b</td>\n",
       "      <td>k</td>\n",
       "      <td>...</td>\n",
       "      <td>s</td>\n",
       "      <td>w</td>\n",
       "      <td>w</td>\n",
       "      <td>p</td>\n",
       "      <td>w</td>\n",
       "      <td>o</td>\n",
       "      <td>p</td>\n",
       "      <td>n</td>\n",
       "      <td>n</td>\n",
       "      <td>g</td>\n",
       "    </tr>\n",
       "    <tr>\n",
       "      <th>2</th>\n",
       "      <td>e</td>\n",
       "      <td>b</td>\n",
       "      <td>s</td>\n",
       "      <td>w</td>\n",
       "      <td>t</td>\n",
       "      <td>l</td>\n",
       "      <td>f</td>\n",
       "      <td>c</td>\n",
       "      <td>b</td>\n",
       "      <td>n</td>\n",
       "      <td>...</td>\n",
       "      <td>s</td>\n",
       "      <td>w</td>\n",
       "      <td>w</td>\n",
       "      <td>p</td>\n",
       "      <td>w</td>\n",
       "      <td>o</td>\n",
       "      <td>p</td>\n",
       "      <td>n</td>\n",
       "      <td>n</td>\n",
       "      <td>m</td>\n",
       "    </tr>\n",
       "    <tr>\n",
       "      <th>3</th>\n",
       "      <td>p</td>\n",
       "      <td>x</td>\n",
       "      <td>y</td>\n",
       "      <td>w</td>\n",
       "      <td>t</td>\n",
       "      <td>p</td>\n",
       "      <td>f</td>\n",
       "      <td>c</td>\n",
       "      <td>n</td>\n",
       "      <td>n</td>\n",
       "      <td>...</td>\n",
       "      <td>s</td>\n",
       "      <td>w</td>\n",
       "      <td>w</td>\n",
       "      <td>p</td>\n",
       "      <td>w</td>\n",
       "      <td>o</td>\n",
       "      <td>p</td>\n",
       "      <td>k</td>\n",
       "      <td>s</td>\n",
       "      <td>u</td>\n",
       "    </tr>\n",
       "    <tr>\n",
       "      <th>4</th>\n",
       "      <td>e</td>\n",
       "      <td>x</td>\n",
       "      <td>s</td>\n",
       "      <td>g</td>\n",
       "      <td>f</td>\n",
       "      <td>n</td>\n",
       "      <td>f</td>\n",
       "      <td>w</td>\n",
       "      <td>b</td>\n",
       "      <td>k</td>\n",
       "      <td>...</td>\n",
       "      <td>s</td>\n",
       "      <td>w</td>\n",
       "      <td>w</td>\n",
       "      <td>p</td>\n",
       "      <td>w</td>\n",
       "      <td>o</td>\n",
       "      <td>e</td>\n",
       "      <td>n</td>\n",
       "      <td>a</td>\n",
       "      <td>g</td>\n",
       "    </tr>\n",
       "  </tbody>\n",
       "</table>\n",
       "<p>5 rows × 23 columns</p>\n",
       "</div>"
      ],
      "text/plain": [
       "  class cap-shape cap-surface cap-color bruises odor gill-attachment  \\\n",
       "0     p         x           s         n       t    p               f   \n",
       "1     e         x           s         y       t    a               f   \n",
       "2     e         b           s         w       t    l               f   \n",
       "3     p         x           y         w       t    p               f   \n",
       "4     e         x           s         g       f    n               f   \n",
       "\n",
       "  gill-spacing gill-size gill-color  ... stalk-surface-below-ring  \\\n",
       "0            c         n          k  ...                        s   \n",
       "1            c         b          k  ...                        s   \n",
       "2            c         b          n  ...                        s   \n",
       "3            c         n          n  ...                        s   \n",
       "4            w         b          k  ...                        s   \n",
       "\n",
       "  stalk-color-above-ring stalk-color-below-ring veil-type veil-color  \\\n",
       "0                      w                      w         p          w   \n",
       "1                      w                      w         p          w   \n",
       "2                      w                      w         p          w   \n",
       "3                      w                      w         p          w   \n",
       "4                      w                      w         p          w   \n",
       "\n",
       "  ring-number ring-type spore-print-color population habitat  \n",
       "0           o         p                 k          s       u  \n",
       "1           o         p                 n          n       g  \n",
       "2           o         p                 n          n       m  \n",
       "3           o         p                 k          s       u  \n",
       "4           o         e                 n          a       g  \n",
       "\n",
       "[5 rows x 23 columns]"
      ]
     },
     "execution_count": 5,
     "metadata": {},
     "output_type": "execute_result"
    }
   ],
   "source": [
    "fungis.head()"
   ]
  },
  {
   "cell_type": "code",
   "execution_count": 6,
   "metadata": {},
   "outputs": [
    {
     "data": {
      "text/html": [
       "<div>\n",
       "<style scoped>\n",
       "    .dataframe tbody tr th:only-of-type {\n",
       "        vertical-align: middle;\n",
       "    }\n",
       "\n",
       "    .dataframe tbody tr th {\n",
       "        vertical-align: top;\n",
       "    }\n",
       "\n",
       "    .dataframe thead th {\n",
       "        text-align: right;\n",
       "    }\n",
       "</style>\n",
       "<table border=\"1\" class=\"dataframe\">\n",
       "  <thead>\n",
       "    <tr style=\"text-align: right;\">\n",
       "      <th></th>\n",
       "      <th>class</th>\n",
       "      <th>cap-shape</th>\n",
       "      <th>cap-surface</th>\n",
       "      <th>cap-color</th>\n",
       "      <th>bruises</th>\n",
       "      <th>odor</th>\n",
       "      <th>gill-attachment</th>\n",
       "      <th>gill-spacing</th>\n",
       "      <th>gill-size</th>\n",
       "      <th>gill-color</th>\n",
       "      <th>...</th>\n",
       "      <th>stalk-surface-below-ring</th>\n",
       "      <th>stalk-color-above-ring</th>\n",
       "      <th>stalk-color-below-ring</th>\n",
       "      <th>veil-type</th>\n",
       "      <th>veil-color</th>\n",
       "      <th>ring-number</th>\n",
       "      <th>ring-type</th>\n",
       "      <th>spore-print-color</th>\n",
       "      <th>population</th>\n",
       "      <th>habitat</th>\n",
       "    </tr>\n",
       "  </thead>\n",
       "  <tbody>\n",
       "    <tr>\n",
       "      <th>8119</th>\n",
       "      <td>e</td>\n",
       "      <td>k</td>\n",
       "      <td>s</td>\n",
       "      <td>n</td>\n",
       "      <td>f</td>\n",
       "      <td>n</td>\n",
       "      <td>a</td>\n",
       "      <td>c</td>\n",
       "      <td>b</td>\n",
       "      <td>y</td>\n",
       "      <td>...</td>\n",
       "      <td>s</td>\n",
       "      <td>o</td>\n",
       "      <td>o</td>\n",
       "      <td>p</td>\n",
       "      <td>o</td>\n",
       "      <td>o</td>\n",
       "      <td>p</td>\n",
       "      <td>b</td>\n",
       "      <td>c</td>\n",
       "      <td>l</td>\n",
       "    </tr>\n",
       "    <tr>\n",
       "      <th>8120</th>\n",
       "      <td>e</td>\n",
       "      <td>x</td>\n",
       "      <td>s</td>\n",
       "      <td>n</td>\n",
       "      <td>f</td>\n",
       "      <td>n</td>\n",
       "      <td>a</td>\n",
       "      <td>c</td>\n",
       "      <td>b</td>\n",
       "      <td>y</td>\n",
       "      <td>...</td>\n",
       "      <td>s</td>\n",
       "      <td>o</td>\n",
       "      <td>o</td>\n",
       "      <td>p</td>\n",
       "      <td>n</td>\n",
       "      <td>o</td>\n",
       "      <td>p</td>\n",
       "      <td>b</td>\n",
       "      <td>v</td>\n",
       "      <td>l</td>\n",
       "    </tr>\n",
       "    <tr>\n",
       "      <th>8121</th>\n",
       "      <td>e</td>\n",
       "      <td>f</td>\n",
       "      <td>s</td>\n",
       "      <td>n</td>\n",
       "      <td>f</td>\n",
       "      <td>n</td>\n",
       "      <td>a</td>\n",
       "      <td>c</td>\n",
       "      <td>b</td>\n",
       "      <td>n</td>\n",
       "      <td>...</td>\n",
       "      <td>s</td>\n",
       "      <td>o</td>\n",
       "      <td>o</td>\n",
       "      <td>p</td>\n",
       "      <td>o</td>\n",
       "      <td>o</td>\n",
       "      <td>p</td>\n",
       "      <td>b</td>\n",
       "      <td>c</td>\n",
       "      <td>l</td>\n",
       "    </tr>\n",
       "    <tr>\n",
       "      <th>8122</th>\n",
       "      <td>p</td>\n",
       "      <td>k</td>\n",
       "      <td>y</td>\n",
       "      <td>n</td>\n",
       "      <td>f</td>\n",
       "      <td>y</td>\n",
       "      <td>f</td>\n",
       "      <td>c</td>\n",
       "      <td>n</td>\n",
       "      <td>b</td>\n",
       "      <td>...</td>\n",
       "      <td>k</td>\n",
       "      <td>w</td>\n",
       "      <td>w</td>\n",
       "      <td>p</td>\n",
       "      <td>w</td>\n",
       "      <td>o</td>\n",
       "      <td>e</td>\n",
       "      <td>w</td>\n",
       "      <td>v</td>\n",
       "      <td>l</td>\n",
       "    </tr>\n",
       "    <tr>\n",
       "      <th>8123</th>\n",
       "      <td>e</td>\n",
       "      <td>x</td>\n",
       "      <td>s</td>\n",
       "      <td>n</td>\n",
       "      <td>f</td>\n",
       "      <td>n</td>\n",
       "      <td>a</td>\n",
       "      <td>c</td>\n",
       "      <td>b</td>\n",
       "      <td>y</td>\n",
       "      <td>...</td>\n",
       "      <td>s</td>\n",
       "      <td>o</td>\n",
       "      <td>o</td>\n",
       "      <td>p</td>\n",
       "      <td>o</td>\n",
       "      <td>o</td>\n",
       "      <td>p</td>\n",
       "      <td>o</td>\n",
       "      <td>c</td>\n",
       "      <td>l</td>\n",
       "    </tr>\n",
       "  </tbody>\n",
       "</table>\n",
       "<p>5 rows × 23 columns</p>\n",
       "</div>"
      ],
      "text/plain": [
       "     class cap-shape cap-surface cap-color bruises odor gill-attachment  \\\n",
       "8119     e         k           s         n       f    n               a   \n",
       "8120     e         x           s         n       f    n               a   \n",
       "8121     e         f           s         n       f    n               a   \n",
       "8122     p         k           y         n       f    y               f   \n",
       "8123     e         x           s         n       f    n               a   \n",
       "\n",
       "     gill-spacing gill-size gill-color  ... stalk-surface-below-ring  \\\n",
       "8119            c         b          y  ...                        s   \n",
       "8120            c         b          y  ...                        s   \n",
       "8121            c         b          n  ...                        s   \n",
       "8122            c         n          b  ...                        k   \n",
       "8123            c         b          y  ...                        s   \n",
       "\n",
       "     stalk-color-above-ring stalk-color-below-ring veil-type veil-color  \\\n",
       "8119                      o                      o         p          o   \n",
       "8120                      o                      o         p          n   \n",
       "8121                      o                      o         p          o   \n",
       "8122                      w                      w         p          w   \n",
       "8123                      o                      o         p          o   \n",
       "\n",
       "     ring-number ring-type spore-print-color population habitat  \n",
       "8119           o         p                 b          c       l  \n",
       "8120           o         p                 b          v       l  \n",
       "8121           o         p                 b          c       l  \n",
       "8122           o         e                 w          v       l  \n",
       "8123           o         p                 o          c       l  \n",
       "\n",
       "[5 rows x 23 columns]"
      ]
     },
     "execution_count": 6,
     "metadata": {},
     "output_type": "execute_result"
    }
   ],
   "source": [
    "fungis.tail()"
   ]
  },
  {
   "cell_type": "code",
   "execution_count": 7,
   "metadata": {},
   "outputs": [
    {
     "data": {
      "text/plain": [
       "pandas.core.frame.DataFrame"
      ]
     },
     "execution_count": 7,
     "metadata": {},
     "output_type": "execute_result"
    }
   ],
   "source": [
    "type(fungis)"
   ]
  },
  {
   "cell_type": "code",
   "execution_count": 8,
   "metadata": {},
   "outputs": [
    {
     "name": "stdout",
     "output_type": "stream",
     "text": [
      "<class 'pandas.core.frame.DataFrame'>\n",
      "RangeIndex: 8124 entries, 0 to 8123\n",
      "Data columns (total 23 columns):\n",
      " #   Column                    Non-Null Count  Dtype \n",
      "---  ------                    --------------  ----- \n",
      " 0   class                     8124 non-null   object\n",
      " 1   cap-shape                 8124 non-null   object\n",
      " 2   cap-surface               8124 non-null   object\n",
      " 3   cap-color                 8124 non-null   object\n",
      " 4   bruises                   8124 non-null   object\n",
      " 5   odor                      8124 non-null   object\n",
      " 6   gill-attachment           8124 non-null   object\n",
      " 7   gill-spacing              8124 non-null   object\n",
      " 8   gill-size                 8124 non-null   object\n",
      " 9   gill-color                8124 non-null   object\n",
      " 10  stalk-shape               8124 non-null   object\n",
      " 11  stalk-root                8124 non-null   object\n",
      " 12  stalk-surface-above-ring  8124 non-null   object\n",
      " 13  stalk-surface-below-ring  8124 non-null   object\n",
      " 14  stalk-color-above-ring    8124 non-null   object\n",
      " 15  stalk-color-below-ring    8124 non-null   object\n",
      " 16  veil-type                 8124 non-null   object\n",
      " 17  veil-color                8124 non-null   object\n",
      " 18  ring-number               8124 non-null   object\n",
      " 19  ring-type                 8124 non-null   object\n",
      " 20  spore-print-color         8124 non-null   object\n",
      " 21  population                8124 non-null   object\n",
      " 22  habitat                   8124 non-null   object\n",
      "dtypes: object(23)\n",
      "memory usage: 1.4+ MB\n"
     ]
    }
   ],
   "source": [
    "fungis.info()"
   ]
  },
  {
   "cell_type": "markdown",
   "metadata": {},
   "source": [
    "Conjunto de datos [`mushrooms`](https://www.kaggle.com/datasets/uciml/mushroom-classification?select=mushrooms.csv). Este conjunto de datos contiene información sobre distintos tipos de hongos, así también como si estos son venenosos o no. Todos los tipos de datos son letras que indican la forma que tiene una carácteristica del hongo, como su habitat, manchas, etc. El problema que se puede enfrentar con el conjunto de datos es el de entrenar un modelo que, mediante las carácteristicas del hongo, logre clasificarlo como venenoso o no."
   ]
  },
  {
   "cell_type": "code",
   "execution_count": 9,
   "metadata": {},
   "outputs": [],
   "source": [
    "# pip install matplotlib"
   ]
  },
  {
   "cell_type": "code",
   "execution_count": 10,
   "metadata": {},
   "outputs": [
    {
     "data": {
      "image/png": "[encoded data removed]",
      "text/plain": [
       "<Figure size 640x480 with 1 Axes>"
      ]
     },
     "metadata": {},
     "output_type": "display_data"
    }
   ],
   "source": [
    "import matplotlib.pyplot as plt\n",
    "\n",
    "# Contar la cantidad de aprobados y desaprobados\n",
    "conteo_resultados = fungis['class'].value_counts()\n",
    "\n",
    "# Crear el gráfico de barras\n",
    "conteo_resultados.plot(kind='bar', color=['green', 'red'])\n",
    "\n",
    "# Añadir título y etiquetas\n",
    "plt.title('Inserte titulo')\n",
    "plt.xlabel('Resultado')\n",
    "plt.ylabel('Distribución de las clases')\n",
    "\n",
    "# Mostrar el gráfico\n",
    "plt.show()"
   ]
  },
  {
   "cell_type": "markdown",
   "metadata": {},
   "source": [
    "### Serie temporal"
   ]
  },
  {
   "cell_type": "code",
   "execution_count": 11,
   "metadata": {},
   "outputs": [],
   "source": [
    "# pip install yfinance"
   ]
  },
  {
   "cell_type": "code",
   "execution_count": 12,
   "metadata": {},
   "outputs": [],
   "source": [
    "import yfinance as yf\n",
    "import matplotlib.pyplot as plt\n",
    "\n",
    "# Descargar los datos históricos del USD/CLP\n",
    "dolar_price = yf.download('USDCLP=X', start='2023-01-01', end='2024-08-27', progress=False)"
   ]
  },
  {
   "cell_type": "code",
   "execution_count": 13,
   "metadata": {},
   "outputs": [
    {
     "data": {
      "text/html": [
       "<div>\n",
       "<style scoped>\n",
       "    .dataframe tbody tr th:only-of-type {\n",
       "        vertical-align: middle;\n",
       "    }\n",
       "\n",
       "    .dataframe tbody tr th {\n",
       "        vertical-align: top;\n",
       "    }\n",
       "\n",
       "    .dataframe thead th {\n",
       "        text-align: right;\n",
       "    }\n",
       "</style>\n",
       "<table border=\"1\" class=\"dataframe\">\n",
       "  <thead>\n",
       "    <tr style=\"text-align: right;\">\n",
       "      <th></th>\n",
       "      <th>Open</th>\n",
       "      <th>High</th>\n",
       "      <th>Low</th>\n",
       "      <th>Close</th>\n",
       "      <th>Adj Close</th>\n",
       "      <th>Volume</th>\n",
       "    </tr>\n",
       "    <tr>\n",
       "      <th>Date</th>\n",
       "      <th></th>\n",
       "      <th></th>\n",
       "      <th></th>\n",
       "      <th></th>\n",
       "      <th></th>\n",
       "      <th></th>\n",
       "    </tr>\n",
       "  </thead>\n",
       "  <tbody>\n",
       "    <tr>\n",
       "      <th>2023-01-02</th>\n",
       "      <td>847.750000</td>\n",
       "      <td>847.750000</td>\n",
       "      <td>847.750000</td>\n",
       "      <td>847.750000</td>\n",
       "      <td>847.750000</td>\n",
       "      <td>0</td>\n",
       "    </tr>\n",
       "    <tr>\n",
       "      <th>2023-01-03</th>\n",
       "      <td>847.750000</td>\n",
       "      <td>864.000000</td>\n",
       "      <td>837.117493</td>\n",
       "      <td>847.750000</td>\n",
       "      <td>847.750000</td>\n",
       "      <td>0</td>\n",
       "    </tr>\n",
       "    <tr>\n",
       "      <th>2023-01-04</th>\n",
       "      <td>862.349976</td>\n",
       "      <td>862.349976</td>\n",
       "      <td>849.900024</td>\n",
       "      <td>862.349976</td>\n",
       "      <td>862.349976</td>\n",
       "      <td>0</td>\n",
       "    </tr>\n",
       "    <tr>\n",
       "      <th>2023-01-05</th>\n",
       "      <td>854.909973</td>\n",
       "      <td>862.250000</td>\n",
       "      <td>848.349976</td>\n",
       "      <td>854.909973</td>\n",
       "      <td>854.909973</td>\n",
       "      <td>0</td>\n",
       "    </tr>\n",
       "    <tr>\n",
       "      <th>2023-01-06</th>\n",
       "      <td>851.500000</td>\n",
       "      <td>856.000000</td>\n",
       "      <td>839.849976</td>\n",
       "      <td>851.500000</td>\n",
       "      <td>851.500000</td>\n",
       "      <td>0</td>\n",
       "    </tr>\n",
       "    <tr>\n",
       "      <th>...</th>\n",
       "      <td>...</td>\n",
       "      <td>...</td>\n",
       "      <td>...</td>\n",
       "      <td>...</td>\n",
       "      <td>...</td>\n",
       "      <td>...</td>\n",
       "    </tr>\n",
       "    <tr>\n",
       "      <th>2024-08-20</th>\n",
       "      <td>922.909973</td>\n",
       "      <td>924.650024</td>\n",
       "      <td>918.179993</td>\n",
       "      <td>922.909973</td>\n",
       "      <td>922.909973</td>\n",
       "      <td>0</td>\n",
       "    </tr>\n",
       "    <tr>\n",
       "      <th>2024-08-21</th>\n",
       "      <td>923.380005</td>\n",
       "      <td>924.369995</td>\n",
       "      <td>914.330017</td>\n",
       "      <td>923.380005</td>\n",
       "      <td>923.380005</td>\n",
       "      <td>0</td>\n",
       "    </tr>\n",
       "    <tr>\n",
       "      <th>2024-08-22</th>\n",
       "      <td>915.580017</td>\n",
       "      <td>922.530029</td>\n",
       "      <td>915.580017</td>\n",
       "      <td>915.580017</td>\n",
       "      <td>915.580017</td>\n",
       "      <td>0</td>\n",
       "    </tr>\n",
       "    <tr>\n",
       "      <th>2024-08-23</th>\n",
       "      <td>919.010010</td>\n",
       "      <td>919.359985</td>\n",
       "      <td>906.799988</td>\n",
       "      <td>919.010010</td>\n",
       "      <td>919.010010</td>\n",
       "      <td>0</td>\n",
       "    </tr>\n",
       "    <tr>\n",
       "      <th>2024-08-26</th>\n",
       "      <td>908.400024</td>\n",
       "      <td>910.750000</td>\n",
       "      <td>904.700012</td>\n",
       "      <td>908.400024</td>\n",
       "      <td>908.400024</td>\n",
       "      <td>0</td>\n",
       "    </tr>\n",
       "  </tbody>\n",
       "</table>\n",
       "<p>431 rows × 6 columns</p>\n",
       "</div>"
      ],
      "text/plain": [
       "                  Open        High         Low       Close   Adj Close  Volume\n",
       "Date                                                                          \n",
       "2023-01-02  847.750000  847.750000  847.750000  847.750000  847.750000       0\n",
       "2023-01-03  847.750000  864.000000  837.117493  847.750000  847.750000       0\n",
       "2023-01-04  862.349976  862.349976  849.900024  862.349976  862.349976       0\n",
       "2023-01-05  854.909973  862.250000  848.349976  854.909973  854.909973       0\n",
       "2023-01-06  851.500000  856.000000  839.849976  851.500000  851.500000       0\n",
       "...                ...         ...         ...         ...         ...     ...\n",
       "2024-08-20  922.909973  924.650024  918.179993  922.909973  922.909973       0\n",
       "2024-08-21  923.380005  924.369995  914.330017  923.380005  923.380005       0\n",
       "2024-08-22  915.580017  922.530029  915.580017  915.580017  915.580017       0\n",
       "2024-08-23  919.010010  919.359985  906.799988  919.010010  919.010010       0\n",
       "2024-08-26  908.400024  910.750000  904.700012  908.400024  908.400024       0\n",
       "\n",
       "[431 rows x 6 columns]"
      ]
     },
     "execution_count": 13,
     "metadata": {},
     "output_type": "execute_result"
    }
   ],
   "source": [
    "dolar_price"
   ]
  },
  {
   "cell_type": "code",
   "execution_count": 14,
   "metadata": {},
   "outputs": [
    {
     "data": {
      "image/png": "[encoded data removed]",
      "text/plain": [
       "<Figure size 1000x600 with 1 Axes>"
      ]
     },
     "metadata": {},
     "output_type": "display_data"
    }
   ],
   "source": [
    "# Graficar el precio de cierre ajustado\n",
    "plt.figure(figsize=(10, 6))\n",
    "plt.plot(dolar_price['Close'], label='USD/CLP')\n",
    "plt.title('Valor del Dólar frente al Peso Chileno (USD/CLP)')\n",
    "plt.xlabel('Fecha')\n",
    "plt.ylabel('Valor en CLP')\n",
    "plt.legend()\n",
    "plt.grid(True)\n",
    "plt.show()"
   ]
  },
  {
   "cell_type": "markdown",
   "metadata": {},
   "source": [
    "Los datos corresponden al valor de cierre del dolar el último tiempo con respecto al peso Chileno. La serie temporal cuenta con un total de 431 observaciones (correspondientes a los días hábiles desde 2023). Técnicamente el conjunto de datos tiene varios valores, pero para considerar la serie, sólo nos quedamos con el valor de cierre. Un problema a resolver puede ser el entregar un intervalo para la predicción a 10 días, modelar la tendencia, etc."
   ]
  },
  {
   "cell_type": "markdown",
   "metadata": {},
   "source": [
    "### Datos GeoReferenciados\n",
    "\n",
    "*\"Los valores cercanos se parecen\"*"
   ]
  },
  {
   "cell_type": "code",
   "execution_count": 15,
   "metadata": {},
   "outputs": [],
   "source": [
    "# pip install geostatspy\n",
    "# pip install pygeostat\n",
    "# pip install geopandas\n",
    "# pip install pykrige\n",
    "# pip install gstools ogs5py welltestpy"
   ]
  },
  {
   "cell_type": "code",
   "execution_count": 18,
   "metadata": {},
   "outputs": [
    {
     "name": "stdout",
     "output_type": "stream",
     "text": [
      "Collecting gstoolsNote: you may need to restart the kernel to use updated packages.\n"
     ]
    },
    {
     "name": "stderr",
     "output_type": "stream",
     "text": [
      "\n",
      "[notice] A new release of pip is available: 24.0 -> 24.2\n",
      "[notice] To update, run: C:\\Users\\diego\\AppData\\Local\\Microsoft\\WindowsApps\\PythonSoftwareFoundation.Python.3.11_qbz5n2kfra8p0\\python.exe -m pip install --upgrade pip\n"
     ]
    },
    {
     "name": "stdout",
     "output_type": "stream",
     "text": [
      "\n",
      "  Downloading gstools-1.6.0-cp311-cp311-win_amd64.whl.metadata (22 kB)\n",
      "Collecting emcee>=3.0.0 (from gstools)\n",
      "  Downloading emcee-3.1.6-py2.py3-none-any.whl.metadata (3.0 kB)\n",
      "Collecting hankel>=1.0.0 (from gstools)\n",
      "  Downloading hankel-1.2.2-py3-none-any.whl.metadata (5.4 kB)\n",
      "Collecting meshio>=5.1.0 (from gstools)\n",
      "  Downloading meshio-5.3.5-py3-none-any.whl.metadata (11 kB)\n",
      "Requirement already satisfied: numpy>=1.20.0 in c:\\users\\diego\\appdata\\local\\packages\\pythonsoftwarefoundation.python.3.11_qbz5n2kfra8p0\\localcache\\local-packages\\python311\\site-packages (from gstools) (2.1.0)\n",
      "Collecting pyevtk>=1.1.1 (from gstools)\n",
      "  Downloading pyevtk-1.6.0-py3-none-any.whl.metadata (5.4 kB)\n",
      "Collecting scipy>=1.1.0 (from gstools)\n",
      "  Downloading scipy-1.14.1-cp311-cp311-win_amd64.whl.metadata (60 kB)\n",
      "     ---------------------------------------- 0.0/60.8 kB ? eta -:--:--\n",
      "     --------------------------------- ------ 51.2/60.8 kB 1.3 MB/s eta 0:00:01\n",
      "     ---------------------------------------- 60.8/60.8 kB 1.1 MB/s eta 0:00:00\n",
      "Collecting mpmath>=1.0.0 (from hankel>=1.0.0->gstools)\n",
      "  Downloading mpmath-1.3.0-py3-none-any.whl.metadata (8.6 kB)\n",
      "Requirement already satisfied: rich in c:\\users\\diego\\appdata\\local\\packages\\pythonsoftwarefoundation.python.3.11_qbz5n2kfra8p0\\localcache\\local-packages\\python311\\site-packages (from meshio>=5.1.0->gstools) (13.8.0)\n",
      "Requirement already satisfied: markdown-it-py>=2.2.0 in c:\\users\\diego\\appdata\\local\\packages\\pythonsoftwarefoundation.python.3.11_qbz5n2kfra8p0\\localcache\\local-packages\\python311\\site-packages (from rich->meshio>=5.1.0->gstools) (3.0.0)\n",
      "Requirement already satisfied: pygments<3.0.0,>=2.13.0 in c:\\users\\diego\\appdata\\local\\packages\\pythonsoftwarefoundation.python.3.11_qbz5n2kfra8p0\\localcache\\local-packages\\python311\\site-packages (from rich->meshio>=5.1.0->gstools) (2.18.0)\n",
      "Requirement already satisfied: mdurl~=0.1 in c:\\users\\diego\\appdata\\local\\packages\\pythonsoftwarefoundation.python.3.11_qbz5n2kfra8p0\\localcache\\local-packages\\python311\\site-packages (from markdown-it-py>=2.2.0->rich->meshio>=5.1.0->gstools) (0.1.2)\n",
      "Downloading gstools-1.6.0-cp311-cp311-win_amd64.whl (360 kB)\n",
      "   ---------------------------------------- 0.0/360.3 kB ? eta -:--:--\n",
      "   --------------------------------------- 360.3/360.3 kB 21.9 MB/s eta 0:00:00\n",
      "Downloading emcee-3.1.6-py2.py3-none-any.whl (47 kB)\n",
      "   ---------------------------------------- 0.0/47.4 kB ? eta -:--:--\n",
      "   ---------------------------------------- 47.4/47.4 kB ? eta 0:00:00\n",
      "Downloading hankel-1.2.2-py3-none-any.whl (12 kB)\n",
      "Downloading meshio-5.3.5-py3-none-any.whl (166 kB)\n",
      "   ---------------------------------------- 0.0/166.2 kB ? eta -:--:--\n",
      "   ---------------------------------------- 166.2/166.2 kB 5.0 MB/s eta 0:00:00\n",
      "Downloading pyevtk-1.6.0-py3-none-any.whl (20 kB)\n",
      "Downloading scipy-1.14.1-cp311-cp311-win_amd64.whl (44.8 MB)\n",
      "   ---------------------------------------- 0.0/44.8 MB ? eta -:--:--\n",
      "   ---------------------------------------- 0.3/44.8 MB 17.1 MB/s eta 0:00:03\n",
      "    --------------------------------------- 0.7/44.8 MB 9.5 MB/s eta 0:00:05\n",
      "   - -------------------------------------- 1.3/44.8 MB 10.2 MB/s eta 0:00:05\n",
      "   - -------------------------------------- 1.7/44.8 MB 11.1 MB/s eta 0:00:04\n",
      "   - -------------------------------------- 2.2/44.8 MB 10.2 MB/s eta 0:00:05\n",
      "   -- ------------------------------------- 2.7/44.8 MB 10.7 MB/s eta 0:00:04\n",
      "   --- ------------------------------------ 3.4/44.8 MB 10.9 MB/s eta 0:00:04\n",
      "   --- ------------------------------------ 4.0/44.8 MB 11.6 MB/s eta 0:00:04\n",
      "   --- ------------------------------------ 4.2/44.8 MB 10.9 MB/s eta 0:00:04\n",
      "   ---- ----------------------------------- 4.8/44.8 MB 10.9 MB/s eta 0:00:04\n",
      "   ---- ----------------------------------- 5.5/44.8 MB 11.0 MB/s eta 0:00:04\n",
      "   ----- ---------------------------------- 6.2/44.8 MB 11.7 MB/s eta 0:00:04\n",
      "   ----- ---------------------------------- 6.5/44.8 MB 11.5 MB/s eta 0:00:04\n",
      "   ------ --------------------------------- 7.0/44.8 MB 10.9 MB/s eta 0:00:04\n",
      "   ------ --------------------------------- 7.7/44.8 MB 11.2 MB/s eta 0:00:04\n",
      "   ------- -------------------------------- 8.5/44.8 MB 11.8 MB/s eta 0:00:04\n",
      "   -------- ------------------------------- 9.3/44.8 MB 11.9 MB/s eta 0:00:03\n",
      "   --------- ------------------------------ 10.1/44.8 MB 12.5 MB/s eta 0:00:03\n",
      "   --------- ------------------------------ 10.5/44.8 MB 12.1 MB/s eta 0:00:03\n",
      "   --------- ------------------------------ 11.1/44.8 MB 12.6 MB/s eta 0:00:03\n",
      "   ---------- ----------------------------- 11.8/44.8 MB 12.8 MB/s eta 0:00:03\n",
      "   ----------- ---------------------------- 12.6/44.8 MB 13.1 MB/s eta 0:00:03\n",
      "   ----------- ---------------------------- 13.3/44.8 MB 13.6 MB/s eta 0:00:03\n",
      "   ------------ --------------------------- 13.7/44.8 MB 13.6 MB/s eta 0:00:03\n",
      "   ------------ --------------------------- 14.2/44.8 MB 13.1 MB/s eta 0:00:03\n",
      "   ------------ --------------------------- 14.5/44.8 MB 13.6 MB/s eta 0:00:03\n",
      "   ------------- -------------------------- 15.1/44.8 MB 13.4 MB/s eta 0:00:03\n",
      "   ------------- -------------------------- 15.6/44.8 MB 13.1 MB/s eta 0:00:03\n",
      "   -------------- ------------------------- 16.0/44.8 MB 13.1 MB/s eta 0:00:03\n",
      "   -------------- ------------------------- 16.2/44.8 MB 12.6 MB/s eta 0:00:03\n",
      "   -------------- ------------------------- 16.7/44.8 MB 12.8 MB/s eta 0:00:03\n",
      "   --------------- ------------------------ 17.3/44.8 MB 12.8 MB/s eta 0:00:03\n",
      "   --------------- ------------------------ 17.7/44.8 MB 12.6 MB/s eta 0:00:03\n",
      "   ---------------- ----------------------- 18.3/44.8 MB 12.1 MB/s eta 0:00:03\n",
      "   ---------------- ----------------------- 18.5/44.8 MB 12.1 MB/s eta 0:00:03\n",
      "   ----------------- ---------------------- 19.1/44.8 MB 11.7 MB/s eta 0:00:03\n",
      "   ----------------- ---------------------- 19.6/44.8 MB 11.5 MB/s eta 0:00:03\n",
      "   ----------------- ---------------------- 19.9/44.8 MB 11.1 MB/s eta 0:00:03\n",
      "   ----------------- ---------------------- 20.1/44.8 MB 10.6 MB/s eta 0:00:03\n",
      "   ------------------ --------------------- 20.3/44.8 MB 10.2 MB/s eta 0:00:03\n",
      "   ------------------ --------------------- 20.7/44.8 MB 10.4 MB/s eta 0:00:03\n",
      "   ------------------ --------------------- 21.1/44.8 MB 10.1 MB/s eta 0:00:03\n",
      "   ------------------ --------------------- 21.2/44.8 MB 9.9 MB/s eta 0:00:03\n",
      "   ------------------- -------------------- 21.6/44.8 MB 9.5 MB/s eta 0:00:03\n",
      "   ------------------- -------------------- 21.9/44.8 MB 9.4 MB/s eta 0:00:03\n",
      "   ------------------- -------------------- 22.1/44.8 MB 9.0 MB/s eta 0:00:03\n",
      "   ------------------- -------------------- 22.3/44.8 MB 8.7 MB/s eta 0:00:03\n",
      "   -------------------- ------------------- 22.5/44.8 MB 8.5 MB/s eta 0:00:03\n",
      "   -------------------- ------------------- 22.8/44.8 MB 8.1 MB/s eta 0:00:03\n",
      "   -------------------- ------------------- 23.0/44.8 MB 8.0 MB/s eta 0:00:03\n",
      "   -------------------- ------------------- 23.4/44.8 MB 7.8 MB/s eta 0:00:03\n",
      "   --------------------- ------------------ 23.7/44.8 MB 7.6 MB/s eta 0:00:03\n",
      "   --------------------- ------------------ 24.1/44.8 MB 7.5 MB/s eta 0:00:03\n",
      "   --------------------- ------------------ 24.5/44.8 MB 7.5 MB/s eta 0:00:03\n",
      "   ---------------------- ----------------- 24.8/44.8 MB 7.6 MB/s eta 0:00:03\n",
      "   ---------------------- ----------------- 25.2/44.8 MB 7.5 MB/s eta 0:00:03\n",
      "   ---------------------- ----------------- 25.6/44.8 MB 7.4 MB/s eta 0:00:03\n",
      "   ----------------------- ---------------- 26.0/44.8 MB 7.4 MB/s eta 0:00:03\n",
      "   ----------------------- ---------------- 26.4/44.8 MB 7.4 MB/s eta 0:00:03\n",
      "   ----------------------- ---------------- 26.7/44.8 MB 7.4 MB/s eta 0:00:03\n",
      "   ------------------------ --------------- 27.0/44.8 MB 7.3 MB/s eta 0:00:03\n",
      "   ------------------------ --------------- 27.4/44.8 MB 7.2 MB/s eta 0:00:03\n",
      "   ------------------------ --------------- 27.8/44.8 MB 7.2 MB/s eta 0:00:03\n",
      "   ------------------------- -------------- 28.3/44.8 MB 7.1 MB/s eta 0:00:03\n",
      "   ------------------------- -------------- 28.6/44.8 MB 7.2 MB/s eta 0:00:03\n",
      "   ------------------------- -------------- 29.1/44.8 MB 7.1 MB/s eta 0:00:03\n",
      "   -------------------------- ------------- 29.3/44.8 MB 7.0 MB/s eta 0:00:03\n",
      "   -------------------------- ------------- 29.7/44.8 MB 7.0 MB/s eta 0:00:03\n",
      "   -------------------------- ------------- 30.2/44.8 MB 7.1 MB/s eta 0:00:03\n",
      "   --------------------------- ------------ 30.6/44.8 MB 7.2 MB/s eta 0:00:02\n",
      "   --------------------------- ------------ 31.0/44.8 MB 7.2 MB/s eta 0:00:02\n",
      "   ---------------------------- ----------- 31.4/44.8 MB 7.3 MB/s eta 0:00:02\n",
      "   ---------------------------- ----------- 32.0/44.8 MB 7.6 MB/s eta 0:00:02\n",
      "   ----------------------------- ---------- 32.6/44.8 MB 8.1 MB/s eta 0:00:02\n",
      "   ----------------------------- ---------- 33.1/44.8 MB 8.6 MB/s eta 0:00:02\n",
      "   ----------------------------- ---------- 33.5/44.8 MB 8.6 MB/s eta 0:00:02\n",
      "   ------------------------------ --------- 34.1/44.8 MB 9.0 MB/s eta 0:00:02\n",
      "   ------------------------------ --------- 34.6/44.8 MB 9.2 MB/s eta 0:00:02\n",
      "   ------------------------------- -------- 35.0/44.8 MB 9.2 MB/s eta 0:00:02\n",
      "   ------------------------------- -------- 35.3/44.8 MB 9.2 MB/s eta 0:00:02\n",
      "   ------------------------------- -------- 35.7/44.8 MB 9.1 MB/s eta 0:00:01\n",
      "   -------------------------------- ------- 36.0/44.8 MB 9.1 MB/s eta 0:00:01\n",
      "   -------------------------------- ------- 36.2/44.8 MB 9.0 MB/s eta 0:00:01\n",
      "   -------------------------------- ------- 36.5/44.8 MB 8.8 MB/s eta 0:00:01\n",
      "   -------------------------------- ------- 36.8/44.8 MB 8.7 MB/s eta 0:00:01\n",
      "   --------------------------------- ------ 37.1/44.8 MB 8.8 MB/s eta 0:00:01\n",
      "   --------------------------------- ------ 37.3/44.8 MB 8.7 MB/s eta 0:00:01\n",
      "   --------------------------------- ------ 37.5/44.8 MB 8.5 MB/s eta 0:00:01\n",
      "   --------------------------------- ------ 37.7/44.8 MB 8.4 MB/s eta 0:00:01\n",
      "   --------------------------------- ------ 37.9/44.8 MB 8.2 MB/s eta 0:00:01\n",
      "   --------------------------------- ------ 38.0/44.8 MB 8.0 MB/s eta 0:00:01\n",
      "   ---------------------------------- ----- 38.1/44.8 MB 7.8 MB/s eta 0:00:01\n",
      "   ---------------------------------- ----- 38.4/44.8 MB 7.6 MB/s eta 0:00:01\n",
      "   ---------------------------------- ----- 38.5/44.8 MB 7.4 MB/s eta 0:00:01\n",
      "   ---------------------------------- ----- 38.8/44.8 MB 7.4 MB/s eta 0:00:01\n",
      "   ---------------------------------- ----- 39.0/44.8 MB 7.2 MB/s eta 0:00:01\n",
      "   ----------------------------------- ---- 39.2/44.8 MB 7.1 MB/s eta 0:00:01\n",
      "   ----------------------------------- ---- 39.4/44.8 MB 7.0 MB/s eta 0:00:01\n",
      "   ----------------------------------- ---- 39.6/44.8 MB 7.1 MB/s eta 0:00:01\n",
      "   ----------------------------------- ---- 40.0/44.8 MB 7.1 MB/s eta 0:00:01\n",
      "   ----------------------------------- ---- 40.3/44.8 MB 7.0 MB/s eta 0:00:01\n",
      "   ------------------------------------ --- 40.6/44.8 MB 7.0 MB/s eta 0:00:01\n",
      "   ------------------------------------ --- 41.0/44.8 MB 7.0 MB/s eta 0:00:01\n",
      "   ------------------------------------ --- 41.3/44.8 MB 6.8 MB/s eta 0:00:01\n",
      "   ------------------------------------- -- 41.7/44.8 MB 6.8 MB/s eta 0:00:01\n",
      "   ------------------------------------- -- 42.1/44.8 MB 6.8 MB/s eta 0:00:01\n",
      "   -------------------------------------- - 42.5/44.8 MB 6.8 MB/s eta 0:00:01\n",
      "   -------------------------------------- - 42.9/44.8 MB 6.7 MB/s eta 0:00:01\n",
      "   -------------------------------------- - 43.3/44.8 MB 6.7 MB/s eta 0:00:01\n",
      "   ---------------------------------------  43.7/44.8 MB 6.6 MB/s eta 0:00:01\n",
      "   ---------------------------------------  44.2/44.8 MB 6.6 MB/s eta 0:00:01\n",
      "   ---------------------------------------  44.3/44.8 MB 6.5 MB/s eta 0:00:01\n",
      "   ---------------------------------------  44.7/44.8 MB 6.4 MB/s eta 0:00:01\n",
      "   ---------------------------------------  44.8/44.8 MB 6.4 MB/s eta 0:00:01\n",
      "   ---------------------------------------  44.8/44.8 MB 6.4 MB/s eta 0:00:01\n",
      "   ---------------------------------------  44.8/44.8 MB 6.4 MB/s eta 0:00:01\n",
      "   ---------------------------------------- 44.8/44.8 MB 5.8 MB/s eta 0:00:00\n",
      "Downloading mpmath-1.3.0-py3-none-any.whl (536 kB)\n",
      "   ---------------------------------------- 0.0/536.2 kB ? eta -:--:--\n",
      "   --------------- ------------------------ 204.8/536.2 kB 4.1 MB/s eta 0:00:01\n",
      "   ------------------------------ --------- 409.6/536.2 kB 4.2 MB/s eta 0:00:01\n",
      "   ---------------------------------------- 536.2/536.2 kB 3.4 MB/s eta 0:00:00\n",
      "Installing collected packages: mpmath, scipy, pyevtk, emcee, hankel, meshio, gstools\n",
      "Successfully installed emcee-3.1.6 gstools-1.6.0 hankel-1.2.2 meshio-5.3.5 mpmath-1.3.0 pyevtk-1.6.0 scipy-1.14.1\n"
     ]
    }
   ],
   "source": [
    "# pip install gstools"
   ]
  },
  {
   "cell_type": "code",
   "execution_count": 17,
   "metadata": {},
   "outputs": [
    {
     "ename": "ModuleNotFoundError",
     "evalue": "No module named 'gstools'",
     "output_type": "error",
     "traceback": [
      "\u001b[1;31m---------------------------------------------------------------------------\u001b[0m",
      "\u001b[1;31mModuleNotFoundError\u001b[0m                       Traceback (most recent call last)",
      "Cell \u001b[1;32mIn[17], line 1\u001b[0m\n\u001b[1;32m----> 1\u001b[0m \u001b[38;5;28;01mimport\u001b[39;00m \u001b[38;5;21;01mgstools\u001b[39;00m \u001b[38;5;28;01mas\u001b[39;00m \u001b[38;5;21;01mgs\u001b[39;00m\n\u001b[0;32m      3\u001b[0m wifi_signal \u001b[38;5;241m=\u001b[39m pd\u001b[38;5;241m.\u001b[39mread_csv(\u001b[38;5;124m'\u001b[39m\u001b[38;5;124m../datasets/RSS.csv\u001b[39m\u001b[38;5;124m'\u001b[39m)\n\u001b[0;32m      4\u001b[0m wifi_signal\u001b[38;5;241m.\u001b[39mhead()\n",
      "\u001b[1;31mModuleNotFoundError\u001b[0m: No module named 'gstools'"
     ]
    }
   ],
   "source": [
    "import gstools as gs\n",
    "\n",
    "wifi_signal = pd.read_csv('../datasets/RSS.csv')\n",
    "wifi_signal.head()"
   ]
  },
  {
   "cell_type": "markdown",
   "metadata": {},
   "source": [
    "https://www.kaggle.com/datasets/sanchukanirupama/wifi-received-signal-strength-rssi-dataset?resource=download&select=Indoor+Positioning+Area.png"
   ]
  },
  {
   "cell_type": "code",
   "execution_count": null,
   "metadata": {},
   "outputs": [
    {
     "data": {
      "image/png": "[encoded data removed]",
      "text/plain": [
       "<Figure size 640x480 with 1 Axes>"
      ]
     },
     "metadata": {},
     "output_type": "display_data"
    }
   ],
   "source": [
    "plt.scatter(wifi_signal['X'], wifi_signal['Y'])\n",
    "plt.show()"
   ]
  },
  {
   "cell_type": "markdown",
   "metadata": {},
   "source": [
    "Los datos corresponden a mediciones de un tipo de señal en distitas partes de una casa ¿Será posible crear un mapa de la señal en todo el espacio?"
   ]
  },
  {
   "cell_type": "code",
   "execution_count": null,
   "metadata": {},
   "outputs": [
    {
     "data": {
      "image/png": "[encoded data removed]",
      "text/plain": [
       "<Figure size 640x480 with 1 Axes>"
      ]
     },
     "metadata": {},
     "output_type": "display_data"
    }
   ],
   "source": [
    "N = 45\n",
    "x, y = wifi_signal['X'], wifi_signal['Y']\n",
    "A = wifi_signal['RSS - A']\n",
    "\n",
    "\n",
    "fig, ax = plt.subplots()\n",
    "\n",
    "scatter = ax.scatter(x, y, c=A)\n",
    "\n",
    "# produce a legend with the unique colors from the scatter\n",
    "legend1 = ax.legend(*scatter.legend_elements(),\n",
    "                    loc=\"lower left\", title=\"Classes\")\n",
    "ax.add_artist(legend1)\n",
    "\n",
    "# produce a legend with a cross-section of sizes from the scatter\n",
    "handles, labels = scatter.legend_elements(prop=\"sizes\", alpha=0.6)\n",
    "legend2 = ax.legend(handles, labels, loc=\"upper right\", title=\"Sizes\")\n",
    "\n",
    "plt.show()"
   ]
  }
 ],
 "metadata": {
  "kernelspec": {
   "display_name": "Python 3",
   "language": "python",
   "name": "python3"
  },
  "language_info": {
   "codemirror_mode": {
    "name": "ipython",
    "version": 3
   },
   "file_extension": ".py",
   "mimetype": "text/x-python",
   "name": "python",
   "nbconvert_exporter": "python",
   "pygments_lexer": "ipython3",
   "version": "3.11.9"
  }
 },
 "nbformat": 4,
 "nbformat_minor": 2
}
